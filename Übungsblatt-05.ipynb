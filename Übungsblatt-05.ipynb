{
 "cells": [
  {
   "cell_type": "code",
   "execution_count": 3,
   "id": "dc045cfd-db17-40ad-be60-27f9de39b8e0",
   "metadata": {},
   "outputs": [
    {
     "name": "stdout",
     "output_type": "stream",
     "text": [
      "{'400-2': (1, 'Pieces'), '320-45': (5, 'Pieces'), '280-50': (20, 'Pieces'), '430-10': (3, 'Pieces'), '470-5': (2, 'Pieces')}\n"
     ]
    }
   ],
   "source": [
    "# Aufgabe 1 :\n",
    "\n",
    "# Wir definieren die parts Liste mit neuen Produkten, indem wir für jedes (tuple) Teil die notwendigen Informationen angeben.\n",
    "parts = [\n",
    "    (1, '400-2', 'Hammer', 1, 'Pieces'),\n",
    "    (2, '320-45', 'Screwdriver', 5, 'Pieces'),\n",
    "    (3, '280-50', 'Nail', 20, 'Pieces'),\n",
    "    (4, '430-10', 'Screw', 3, 'Pieces'),\n",
    "    (5, '470-5', 'Pliers', 2, 'Pieces')\n",
    "]\n",
    "\n",
    "# Wir erstellen ein leeres dict, um die gewünschten Informationen hinzuzufügen.\n",
    "gewünschte_parts = {}\n",
    "\n",
    "# Da jede Tuple in der Liste vom gleichen Typ sind, können wir sie mit der Indexposition zu unserem leerem dict hinzufügen.\n",
    "for part in parts:\n",
    "    product_number = part[1]\n",
    "    quantity = part[3]\n",
    "    unit = part[4]\n",
    "    gewünschte_parts[product_number] = (quantity, unit)\n",
    "\n",
    "print(gewünschte_parts)  # Wir geben unsere dict(gewünschte_parts) aus."
   ]
  },
  {
   "cell_type": "code",
   "execution_count": 5,
   "id": "16ed85a3-7311-4617-9491-e2c8d4966522",
   "metadata": {},
   "outputs": [
    {
     "name": "stdout",
     "output_type": "stream",
     "text": [
      "[('Anna', 'Doe'), ('Max', 'Kinn'), ('Anastasia', 'Schneider'), ('Alperen', 'Kabil'), ('Louise', 'Gerth')]\n"
     ]
    }
   ],
   "source": [
    "# Aufgabe 2 :\n",
    "\n",
    "# Wir erstellen zwei Listen mit gleichen Elementen: Vorname und Nachname.\n",
    "first_names = ['Anna', 'Max', 'Anastasia', 'Alperen', 'Louise']\n",
    "last_names = ['Doe', 'Kinn', 'Schneider', 'Kabil', 'Gerth']\n",
    "\n",
    "# Wir ordnen die Elemente von Listen mit gleichen Elementen einzeln mit der Zip-Funktion zu.\n",
    "names = list(zip(first_names, last_names)) \n",
    "print(names)"
   ]
  },
  {
   "cell_type": "code",
   "execution_count": 7,
   "id": "2e0b5c94-fba8-4d0e-98fd-1e246d61d33b",
   "metadata": {},
   "outputs": [
    {
     "name": "stdin",
     "output_type": "stream",
     "text": [
      "Bitte geben Sie die Länge des Grundstücks in Metern ein:  10\n",
      "Bitte geben Sie die Breite des Grundstücks in Metern ein:  20\n"
     ]
    },
    {
     "name": "stdout",
     "output_type": "stream",
     "text": [
      "Fläche des Grundstücks: 200 Quadratmeter.\n",
      "Nettopreis: 400 Euro.\n",
      "Bruttopreis: 460.0 Euro.\n"
     ]
    }
   ],
   "source": [
    "# Aufgabe 3 : \n",
    "\n",
    "# Wir legen unseren Quadratmeterpreis und Steuersatz fest.\n",
    "price_sqrmt = 2\n",
    "tax_rate = 0.15\n",
    "\n",
    "# Die gewünschten Breiten- und Höhenwerte erhalten wir vom Benutzer durch input.\n",
    "length = int(input(\"Bitte geben Sie die Länge des Grundstücks in Metern ein: \"))\n",
    "width = int(input(\"Bitte geben Sie die Breite des Grundstücks in Metern ein: \"))\n",
    "\n",
    "# In unserer Funktion berechnen wir Fläche, Netto- und Bruttopreis.\n",
    "def calculate_price(length, width) :\n",
    "    area = length * width\n",
    "    netto_price = area * price_sqrmt\n",
    "    brutto_price = netto_price + (netto_price * tax_rate)\n",
    "\n",
    "    return area, netto_price, brutto_price\n",
    "\n",
    "# Wir setzen die Werte gleich der Funktion. Die Funktion funktioniert also. \n",
    "#Wenn wir dies nicht schreiben, erkennt unser Code keine Fläche, Netto- und Bruttopreise.\n",
    "area, netto_price, brutto_price = calculate_price(length, width)\n",
    "\n",
    "# Am Ende geben wir unsere Werte durch f string aus.\n",
    "print(f\"Fläche des Grundstücks: {area} Quadratmeter.\")\n",
    "print(f\"Nettopreis: {netto_price} Euro.\")\n",
    "print(f\"Bruttopreis: {brutto_price} Euro.\")"
   ]
  },
  {
   "cell_type": "code",
   "execution_count": null,
   "id": "1634be33-480c-417c-bd75-97143005833e",
   "metadata": {},
   "outputs": [],
   "source": []
  }
 ],
 "metadata": {
  "kernelspec": {
   "display_name": "Python 3 (ipykernel)",
   "language": "python",
   "name": "python3"
  },
  "language_info": {
   "codemirror_mode": {
    "name": "ipython",
    "version": 3
   },
   "file_extension": ".py",
   "mimetype": "text/x-python",
   "name": "python",
   "nbconvert_exporter": "python",
   "pygments_lexer": "ipython3",
   "version": "3.11.7"
  }
 },
 "nbformat": 4,
 "nbformat_minor": 5
}
