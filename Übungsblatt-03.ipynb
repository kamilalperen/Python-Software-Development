{
 "cells": [
  {
   "cell_type": "code",
   "execution_count": 1,
   "id": "c26e59a2-8c30-4244-a769-e7f3bc24d94d",
   "metadata": {},
   "outputs": [],
   "source": [
    "# Aufgabe 1 :"
   ]
  },
  {
   "cell_type": "code",
   "execution_count": null,
   "id": "8f334500-6893-4c9b-9fae-1d8971277f85",
   "metadata": {},
   "outputs": [],
   "source": [
    "# a)\n",
    "\n",
    "zeichen = \"$\" # Wir schreiben unser gewünschte Zeichen.\n",
    "repetition = 5 # maximale Anzahl der Wiederhlung.\n",
    "\n",
    "zeichen_repetition = [zeichen * (i + 1) for i in range(repetition)] \n",
    "# Der Grund, warum wir den Zeichenteil mit i + 1 multiplizieren, liegt darin, dass wir nicht möchten, dass 0 verwendet wird. \n",
    "# Denn für den Bereich geben wir nur den Bereich der maximalen Wiederholungszahl an und es wird automatisch bei 0 begonnen.\n",
    "\n",
    "print(zeichen_repetition) # Die Liste ausgeben."
   ]
  },
  {
   "cell_type": "code",
   "execution_count": null,
   "id": "3c96d9de-695b-4f38-8da1-eaaa2eb3bae4",
   "metadata": {},
   "outputs": [],
   "source": [
    "# b)\n",
    "\n",
    "zahl = 7 # unser gewünschte Zahl.\n",
    "faktoren = [1, 2, 3, 4, 5] # Ich erstelle die Liste von Faktoren.\n",
    "\n",
    "resultate = [zahl * faktor for faktor in faktoren] # Ich bekomme hier die Ergebnisse: Zahl mal jede Faktoren.\n",
    "print(resultate) # Die Liste von Ergebnisse gaben wir aus."
   ]
  },
  {
   "cell_type": "code",
   "execution_count": null,
   "id": "e4de7c6f-9e23-4e26-8b5d-f8a8549094cf",
   "metadata": {},
   "outputs": [],
   "source": [
    "# c)\n",
    "\n",
    "list1 = [1, 2, 3, 4, 5, 6, 7, 8] # Ich erstelle meine Liste.\n",
    "\n",
    "gerade_zahlen = [i for i in list1 if i % 2 == 0] # Um die gerade Zahlen zu definieren, benötigen wir den Ausdruck: (i % 2 == 0).\n",
    "ungerade_zahlen = [i for i in list1 if i % 2 != 0] # Um die ungerade Zahlen zu definieren, benötigen wir den Ausdruck: (i % 2 != 0).\n",
    "\n",
    "print(gerade_zahlen)\n",
    "print(ungerade_zahlen)\n",
    "#Die beide Liste von Ergebnisse gaben wir aus."
   ]
  },
  {
   "cell_type": "code",
   "execution_count": null,
   "id": "88acd92b-12e4-4315-9f29-9ce84cad3a68",
   "metadata": {},
   "outputs": [],
   "source": [
    "# Aufgabe 2"
   ]
  },
  {
   "cell_type": "code",
   "execution_count": null,
   "id": "fdd8ffc2-942a-44c7-b6bc-b556f2785b66",
   "metadata": {},
   "outputs": [],
   "source": [
    "# a)\n",
    "\n",
    "# Wie Sie sehen, enthält die Liste noch 3 weitere Listen.\n",
    "customers = [               \n",
    "         [\"Max\", \"Mustermann\", \"01.01.83\"],\n",
    "         [\"Martina\", \"Musterfrau\", \"02.02.84\"],\n",
    "         [\"Gabi\", \"Meier\", \"03.03.85\"]\n",
    "     ]\n",
    "\n",
    "for last_name in customers :  \n",
    "    print(last_name[1]) # Mit dem Ausdruck (last_name) kann der Begriff im 1. Index für 3 Listen geschrieben werden."
   ]
  },
  {
   "cell_type": "code",
   "execution_count": null,
   "id": "20bb080b-7739-40d1-bc06-19e0731ca91c",
   "metadata": {},
   "outputs": [],
   "source": [
    "# b)\n",
    "\n",
    "numbers = [1, 4, 2, 8, 5] # Wir erstellen zuerst unsere Liste.\n",
    "squared_numbers = [] # Wir erstellen eine leere List, um die Zahlen zu quadrieren und zu addieren.\n",
    "\n",
    "index = 0 # Denn Index von einer List fängt von 0 an. \n",
    "\n",
    "while index < len(numbers) : # Die Schleife läuft, bis alle Elemente der Liste bearbeitet sind.\n",
    "    squared_numbers.append(numbers[index] ** 2) # Das Quadrat jedes Elements der Liste wird berechnet und zur neuen Liste hinzugefügt.\n",
    "    index = index + 1 # Wir erhöhen den Index um eins, um zum nächsten Element zu gelangen.\n",
    "\n",
    "print(squared_numbers)"
   ]
  },
  {
   "cell_type": "code",
   "execution_count": null,
   "id": "5ec0047d-2c2b-4d01-a1af-7c7a31e64f8d",
   "metadata": {},
   "outputs": [],
   "source": [
    "# c)\n",
    "\n",
    "import random # Ich importiere das Zufallsmodul.\n",
    "\n",
    "secret_number = random.randint(1, 100) # Zufallszahlgenerierung.\n",
    "guess = 0 # Ich gebe hier einfach eine Vorhersage Gleichung an, um in meiner Schleife zu benutzun.\n",
    "\n",
    "for i in range(100) :\n",
    "    guess = int(input(\"Erraten Sie eine Zahl zwischen 1 und 100\")) # Ich möchte, dass der Benutzer eine Zahl errät\n",
    "    if guess > secret_number :\n",
    "        print(\"Zu hoch! Rate nochmal!\") # Wenn die geschätzte Zahl vom Benutzer höher als secret_number ist, sage ich hier, dass die Zahl zu hoch ist.\n",
    "    elif guess < secret_number :\n",
    "        print(\"Zu niedrig! Rate nochmal!\") # Wenn die geschätzte Zahl vom Benutzer niedriger als secret_number ist, sage ich hier, dass die Zahl zu niedrig ist.\n",
    "    else :\n",
    "        print(\"Sie haben es richtig erraten! Die Zahl war: \", secret_number) # Falls Benutzer richtig die Zahl erratet, sage ich einfach hier.\n",
    "        break"
   ]
  },
  {
   "cell_type": "code",
   "execution_count": null,
   "id": "b0a2721e-b259-45c6-9df8-896ec08c4fe6",
   "metadata": {},
   "outputs": [],
   "source": [
    "# Aufgabe 3"
   ]
  },
  {
   "cell_type": "code",
   "execution_count": null,
   "id": "bf5286ed-fcd4-469c-901a-6d9fb036fcb2",
   "metadata": {},
   "outputs": [],
   "source": [
    "blank_list = [] # Eine leere Liste erstellen \n",
    "\n",
    "while True :  # Die Ausdruck \"while True\" erstellt in Python eine Endlosschleife. Das bedeutet, \n",
    "              # dass die Schleife solange weiterläuft, wie die Bedingung wahr ist (True ist).\n",
    "\n",
    "    numbers = input(\"Please enter your numbers: \") # Benutzer im die Eingabe von Zahlen bitten.\n",
    "\n",
    "    if numbers == \"stop\" : # Die Schleife beenden, wenn der Benutzer \"stop\" eingibt.\n",
    "        break\n",
    "    elif numbers.isdigit() :  # Wenn die Eingabe eine Zahl ist, füge sie der Liste Hinzu. Die Funktion isdigit() prüft, ob eine Liste aus Zahlen besteht.\n",
    "        blank_list.append(int(numbers))\n",
    "    else:  # Wenn die Eingabe keine Zahl ist, eine Fehlermeldung ausgeben.\n",
    "        print(\"invalid number\")\n",
    "\n",
    "print(blank_list) # Die eingegebene Zahlen ausgeben \n",
    "\n",
    "minimum = min(blank_list) # Das Minimum der Liste finden.\n",
    "maximum = max(blank_list)  # Das Maximum der Liste finden.\n",
    "\n",
    "total = 0 \n",
    "for i in blank_list : # Die Summe aller Elemente berechnen.\n",
    "    total = total + i    \n",
    "\n",
    "print(total / len(blank_list)) # Den Durchschnitt berechnen und ausgeben.\n",
    "print(maximum) # Das Maximum ausgeben.\n",
    "print(minimum) # Das Minimum ausgeben."
   ]
  }
 ],
 "metadata": {
  "kernelspec": {
   "display_name": "Python 3 (ipykernel)",
   "language": "python",
   "name": "python3"
  },
  "language_info": {
   "codemirror_mode": {
    "name": "ipython",
    "version": 3
   },
   "file_extension": ".py",
   "mimetype": "text/x-python",
   "name": "python",
   "nbconvert_exporter": "python",
   "pygments_lexer": "ipython3",
   "version": "3.11.7"
  }
 },
 "nbformat": 4,
 "nbformat_minor": 5
}
