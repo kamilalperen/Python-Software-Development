{
 "cells": [
  {
   "cell_type": "code",
   "execution_count": 2,
   "id": "2af7a676-93e2-4795-9b94-6f7215426d4d",
   "metadata": {},
   "outputs": [
    {
     "name": "stdout",
     "output_type": "stream",
     "text": [
      "Hello World\n"
     ]
    }
   ],
   "source": [
    "print('Hello World')"
   ]
  },
  {
   "cell_type": "code",
   "execution_count": 3,
   "id": "8b665b61-b396-4f6a-a248-37c46d15def1",
   "metadata": {},
   "outputs": [],
   "source": [
    "###   AUFGABE 1 :"
   ]
  },
  {
   "cell_type": "code",
   "execution_count": 4,
   "id": "94e72718-5585-44f3-98a1-a4a642ea89d0",
   "metadata": {},
   "outputs": [
    {
     "name": "stdout",
     "output_type": "stream",
     "text": [
      "12\n"
     ]
    }
   ],
   "source": [
    "length = 4\n",
    "width = 3\n",
    "\n",
    "area = length * width\n",
    "print(area)"
   ]
  },
  {
   "cell_type": "code",
   "execution_count": 5,
   "id": "c9d43949-0620-41b1-adc5-3a2cdcff1fc4",
   "metadata": {},
   "outputs": [],
   "source": [
    "bruttopreis = 50 * area"
   ]
  },
  {
   "cell_type": "code",
   "execution_count": 6,
   "id": "844a7eee-28bb-4da5-87f5-2bd65fcfa599",
   "metadata": {},
   "outputs": [
    {
     "name": "stdout",
     "output_type": "stream",
     "text": [
      "21.0\n"
     ]
    }
   ],
   "source": [
    "tax = bruttopreis / 1000 * 35\n",
    "print(tax)"
   ]
  },
  {
   "cell_type": "code",
   "execution_count": 7,
   "id": "bf21ac18-ea59-4f1d-86eb-9b05865dcc7a",
   "metadata": {},
   "outputs": [
    {
     "name": "stdout",
     "output_type": "stream",
     "text": [
      "579.0 Euro\n",
      "600 Euro\n"
     ]
    }
   ],
   "source": [
    "nettopreis = bruttopreis - tax\n",
    "print(nettopreis, 'Euro')\n",
    "print(bruttopreis, 'Euro')"
   ]
  },
  {
   "cell_type": "code",
   "execution_count": 8,
   "id": "55da7d8f-5b86-48fd-9e5d-e51299b150a9",
   "metadata": {},
   "outputs": [],
   "source": [
    "### AUFGABE 2 : "
   ]
  },
  {
   "cell_type": "code",
   "execution_count": 9,
   "id": "eb26838c-955f-4d9d-bf07-e486909aadb5",
   "metadata": {},
   "outputs": [
    {
     "name": "stdout",
     "output_type": "stream",
     "text": [
      "The age of the dog is equal to a 42 year old human!\n"
     ]
    }
   ],
   "source": [
    "dog_age = int(input(\"What is the dog's age? \")) \n",
    "\n",
    "if dog_age == 1 :\n",
    "    print('The age of the dog is equal to a 14 year old human!')\n",
    "elif dog_age == 2 :\n",
    "    print('The age of the dog is equal to a 22 year old human!')\n",
    "else:\n",
    "    x = (dog_age - 2) * 5 + 22\n",
    "    print('The age of the dog is equal to a {a} year old human!' .format(a=x))"
   ]
  },
  {
   "cell_type": "code",
   "execution_count": 13,
   "id": "cf65ffb9-88ba-48cf-80d3-ca73b779b27a",
   "metadata": {},
   "outputs": [],
   "source": [
    "### AUFGABE 3 :"
   ]
  },
  {
   "cell_type": "code",
   "execution_count": 13,
   "id": "da46acff-d5ab-47ec-8a25-d23abf5277a8",
   "metadata": {},
   "outputs": [
    {
     "name": "stdout",
     "output_type": "stream",
     "text": [
      "2011 is not a leap jear\n"
     ]
    }
   ],
   "source": [
    "jear = int(input('Please enter a year: '))\n",
    "\n",
    "if jear % 4 == 0 and jear % 100 != 0 or jear % 400 == 0 :\n",
    "    print('{a} is a leap jear' .format(a=jear))\n",
    "else:\n",
    "    print('{a} is not a leap jear' .format(a=jear))"
   ]
  },
  {
   "cell_type": "code",
   "execution_count": null,
   "id": "ff3ec7ee-9703-4f9f-af2d-c8a808a05eec",
   "metadata": {},
   "outputs": [],
   "source": []
  }
 ],
 "metadata": {
  "kernelspec": {
   "display_name": "Python 3 (ipykernel)",
   "language": "python",
   "name": "python3"
  },
  "language_info": {
   "codemirror_mode": {
    "name": "ipython",
    "version": 3
   },
   "file_extension": ".py",
   "mimetype": "text/x-python",
   "name": "python",
   "nbconvert_exporter": "python",
   "pygments_lexer": "ipython3",
   "version": "3.11.7"
  }
 },
 "nbformat": 4,
 "nbformat_minor": 5
}
