{
 "cells": [
  {
   "cell_type": "code",
   "execution_count": 1,
   "id": "f5609211-b557-4c7d-9855-b7bfdaf58765",
   "metadata": {},
   "outputs": [],
   "source": [
    "# Aufgabe 1 :"
   ]
  },
  {
   "cell_type": "code",
   "execution_count": 1,
   "id": "f1fa2754-b0cb-42aa-adf6-8af1e8a560a3",
   "metadata": {},
   "outputs": [
    {
     "name": "stdout",
     "output_type": "stream",
     "text": [
      "(['H', 'E', 'E', 'L', 'L', 'E', 'O'], ['P', 'E', 'E', 'T', 'E', 'R'])\n"
     ]
    }
   ],
   "source": [
    "# a)\n",
    "\n",
    "mixed_list = ['H', 'P', 'E', 'E', 'L', 'T', 'L', 'E', 'O', 'R'] # mixed_list wird erstellt.\n",
    "\n",
    "# Eine Liste 'hello' erstellt. Dabei wird durch die gemischte Liste 'mixed_list' iteriert und für jede Buchstaben, \n",
    "# der in 'HELLO' enthalten ist, wird dieser Buchstabe in 'hello' Liste hinzugefügt. Es ist wichtig, dass Python (case-sensitive) ist.\n",
    "hello = [letter for index, letter in enumerate(mixed_list) if letter in 'HELLO']\n",
    "\n",
    "#Eine Liste 'peter' erstellt. Dabei wird durch die gemischte Liste 'mixed_list' iteriert und für jede Buchstaben, \n",
    "#der in 'PETER' enthalten ist, wird dieser Buchstabe in 'peter' Liste hinzugefügt. Es ist wichtig, dass Python (case-sensitive) ist.\n",
    "peter = [letter for index, letter in enumerate(mixed_list) if letter in 'PETER']\n",
    "\n",
    "main_list = [hello, peter]\n",
    "print(tuple(main_list)) # Die erstellte Listen werden als Tuple ausgegeben."
   ]
  },
  {
   "cell_type": "code",
   "execution_count": 2,
   "id": "2f6f0088-26b9-48d8-9b3b-9020ea67880a",
   "metadata": {},
   "outputs": [
    {
     "name": "stdout",
     "output_type": "stream",
     "text": [
      "[(4, '436-23', 5, 'Pieces'), (7, '928-376', 1, 'Pieces')]\n"
     ]
    }
   ],
   "source": [
    "# b)\n",
    "\n",
    "parts = [(4, '436-23', 'Nail', 5, 'Pieces'), (7, '928-376', 'Screw', 1, 'Pieces')]\n",
    "\n",
    "# Die Liste enthält zwei verschiedene Tupel. Da beide Tupel die gleiche Anzahl an Elementen und Struktur haben, \n",
    "# geben wir die Indexpositionen nur einmal ein und schreiben für beide die Daten, die wir ausgeben möchten.\n",
    "main_info = [(item[0], item[1], item[3], item[4]) for item in parts]\n",
    "print(main_info)"
   ]
  },
  {
   "cell_type": "code",
   "execution_count": 3,
   "id": "dda7afc1-88b9-41ad-ab01-4ed9b12023bd",
   "metadata": {},
   "outputs": [],
   "source": [
    "# Aufgabe 2 :"
   ]
  },
  {
   "cell_type": "code",
   "execution_count": 4,
   "id": "31425e0b-bc96-487a-96a3-65b8b518dd2f",
   "metadata": {},
   "outputs": [
    {
     "name": "stdin",
     "output_type": "stream",
     "text": [
      "Enter the price:  450\n",
      "Please enter cash:  200\n",
      "Please enter cash:  100\n",
      "Please enter cash:  200\n"
     ]
    },
    {
     "name": "stdout",
     "output_type": "stream",
     "text": [
      "The rest of money: 50.0\n"
     ]
    }
   ],
   "source": [
    "euros = [500, 200, 100, 50, 20, 10, 5, 2, 1, 0.5, 0.2, 0.1, 0.05, 0.02, 0.01]\n",
    "\n",
    "price = float(input(\"Enter the price: \"))  #Der Preis muss als Float-Datentyp eingegeben werden.\n",
    "total_entered_money = 0 # Wir addieren den hier eingegebenen Gesamtbetrag ein.\n",
    "\n",
    "while total_entered_money < price : # Wir möchten, dass Geld eingegeben wird, solange der eingegebene Betrag geringer ist als die Gebühr.\n",
    "    money_input = float(input(\"Please enter cash: \"))\n",
    "    # Wenn die eingegebene Währung nicht in der Liste „Euro“ enthalten ist, geben wir aus, \n",
    "    # dass der falsche Betrag eingegeben wurde, und wir fragen erneut nach.\n",
    "    if money_input not in euros : \n",
    "        print(\"Invalid amount, please enter a valid euro note or coin\")\n",
    "        continue\n",
    "    total_entered_money = total_entered_money + money_input # Wir sammeln das Geld hier.\n",
    "\n",
    "# Wenn der eingegebene Betrag höher ist als die Gebühr, geben wir den Restbetrag aus.\n",
    "if total_entered_money > price : \n",
    "    print(\"The rest of money: \" + str(total_entered_money - price))"
   ]
  },
  {
   "cell_type": "code",
   "execution_count": 5,
   "id": "f0749e88-059f-4e77-9e40-7544fc73f333",
   "metadata": {},
   "outputs": [
    {
     "name": "stdout",
     "output_type": "stream",
     "text": [
      "List time periods: \n",
      "Size: 10000, Time: 0.07747507095336914 \n",
      "Size: 100000, Time: 0.4656260013580322 \n",
      "Size: 500000, Time: 2.327775001525879 \n",
      "Size: 1000000, Time: 4.6894309520721436 \n",
      "Set time periods: \n",
      "Size: 10000, Time: 0.0005850791931152344 \n",
      "Size: 100000, Time: 0.0004439353942871094 \n",
      "Size: 500000, Time: 0.0015060901641845703 \n",
      "Size: 1000000, Time: 0.00042891502380371094 \n"
     ]
    }
   ],
   "source": [
    "# Aufgabe 3 :\n",
    "\n",
    "import random \n",
    "import time\n",
    "\n",
    "sizes = [10000, 100000, 500000, 1000000]\n",
    "\n",
    "# Wir erstellen zwei verschiedene Dictionaries, um die Informationen der Listen- und Set Datentypen zu speichern.\n",
    "list_results = {}\n",
    "set_results = {}\n",
    "\n",
    "for size in sizes : # Wir wollen die gleiche Berechnung für die Größen 10000 100000 500000 1000000 durchführen. \n",
    "    lists = [random.randint(0,10000000) for a in range(size)] # Wir möchten eine Liste mit zufälligen Zahlen der Größe (size) erstellen.\n",
    "    sets = set(lists) # Ein Set wird aus der Liste (lists) erstellt.\n",
    "\n",
    "    start_time = time.time() # die Messung der Startzeit \n",
    "    for b in range (1000) : # Schleife für 1000 Iterationen\n",
    "        random_number = random.randint(0, 10000000) # Zufallszahl generieren\n",
    "        random_number in lists # die Prüfung, ob die Zufallszahl in der Liste \"lists\" enthalten ist\n",
    "\n",
    "    list_results[size] = time.time() - start_time # Berechnung der Zeit für Listenoperationen\n",
    "\n",
    "    start_time = time.time() # Startzeit für Set-Operationen messen\n",
    "    for c in range(1000) : # Schleife für 1000 Iterationen\n",
    "        random_number = random.randint(0, 10000000) # Zufallszahl generieren\n",
    "        random_number in sets # die Prüfung, ob die Zufallszahl im Set \"sets\" enthalten ist\n",
    "\n",
    "    set_results[size] = time.time() - start_time # Berechnung der Zeit für Set-Operationen\n",
    "\n",
    "print(\"List time periods: \")\n",
    "for size, spent_time in list_results.items(): # Wir geben die Ergebnisse für Listen. Wir trennen Schlüssel und Werte mit items().                                        \n",
    "    print(f\"Size: {size}, Time: {spent_time} \") # Durch f-String-Methode geben wir unsere Daten mit besseren Aussehen.\n",
    "\n",
    "print(\"Set time periods: \")\n",
    "for size, spent_time in set_results.items():  # Wir geben die Ergebnisse für Listen. Wir trennen Schlüssel und Werte mit items(). \n",
    "    print(f\"Size: {size}, Time: {spent_time} \") # Durch f-String-Methode geben wir unsere Daten mit besseren Aussehen."
   ]
  },
  {
   "cell_type": "code",
   "execution_count": null,
   "id": "eb255e67-f8c6-4e84-aded-f75165bfbfe6",
   "metadata": {},
   "outputs": [],
   "source": []
  }
 ],
 "metadata": {
  "kernelspec": {
   "display_name": "Python 3 (ipykernel)",
   "language": "python",
   "name": "python3"
  },
  "language_info": {
   "codemirror_mode": {
    "name": "ipython",
    "version": 3
   },
   "file_extension": ".py",
   "mimetype": "text/x-python",
   "name": "python",
   "nbconvert_exporter": "python",
   "pygments_lexer": "ipython3",
   "version": "3.11.7"
  }
 },
 "nbformat": 4,
 "nbformat_minor": 5
}
