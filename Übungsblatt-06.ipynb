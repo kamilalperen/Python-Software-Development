{
 "cells": [
  {
   "cell_type": "code",
   "execution_count": 4,
   "id": "b9c7d151-b8f3-4527-bf16-ac4289421372",
   "metadata": {},
   "outputs": [
    {
     "name": "stdout",
     "output_type": "stream",
     "text": [
      "Bis Weihnachten: 200 days, 21:39:30.957433\n",
      "Bis Neujahr: 208 days, 21:39:30.957433\n",
      "Bis Ostern: 317 days, 21:39:30.957433\n"
     ]
    }
   ],
   "source": [
    "# Aufgabe 2\n",
    "\n",
    "import datetime\n",
    "\n",
    "# Wir ermitteln unsere Zieltage dank der Funktion .datetime()\n",
    "christmas_day = datetime.datetime(2024, 12, 24, 0, 0)\n",
    "new_year = datetime.datetime(2025, 1, 1, 0, 0)\n",
    "easter_day = datetime.datetime(2025, 4, 20, 0, 0)\n",
    "\n",
    "# Wir geben den aktuellen Zeitpunkt dank der Funktion .datetime.now() an\n",
    "jetzt = datetime.datetime.now()\n",
    "\n",
    "# Wir berechnen die Differenz zwischen der aktuellen und der Zielzeit und weisen sie einem neuen Wert zu.\n",
    "bis_christmas_day = christmas_day - jetzt\n",
    "bis_new_year = new_year - jetzt\n",
    "bis_easter = easter_day - jetzt\n",
    "\n",
    "# Dank des f-Strings schreiben wir die neue berechneten Werte.\n",
    "print(f\"Bis Weihnachten: {bis_christmas_day}\")\n",
    "print(f\"Bis Neujahr: {bis_new_year}\")\n",
    "print(f\"Bis Ostern: {bis_easter}\")"
   ]
  },
  {
   "cell_type": "code",
   "execution_count": null,
   "id": "3cc3253d-0740-4671-9674-d1ecec7aa39b",
   "metadata": {},
   "outputs": [],
   "source": []
  }
 ],
 "metadata": {
  "kernelspec": {
   "display_name": "Python 3 (ipykernel)",
   "language": "python",
   "name": "python3"
  },
  "language_info": {
   "codemirror_mode": {
    "name": "ipython",
    "version": 3
   },
   "file_extension": ".py",
   "mimetype": "text/x-python",
   "name": "python",
   "nbconvert_exporter": "python",
   "pygments_lexer": "ipython3",
   "version": "3.11.7"
  }
 },
 "nbformat": 4,
 "nbformat_minor": 5
}
