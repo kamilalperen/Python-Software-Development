{
 "cells": [
  {
   "cell_type": "code",
   "execution_count": 1,
   "id": "e594462b-5707-411c-a179-e9298034722a",
   "metadata": {},
   "outputs": [],
   "source": [
    "#Aufgabe 1 :"
   ]
  },
  {
   "cell_type": "code",
   "execution_count": 1,
   "id": "a955f6b9-433b-4e6b-a068-95cd3c360af7",
   "metadata": {},
   "outputs": [
    {
     "name": "stdin",
     "output_type": "stream",
     "text": [
      "Please enter a number:  4\n",
      "Please enter a symbol:  .\n"
     ]
    },
    {
     "name": "stdout",
     "output_type": "stream",
     "text": [
      ".\n",
      "..\n",
      "...\n",
      "....\n",
      "...\n",
      "..\n",
      ".\n"
     ]
    }
   ],
   "source": [
    "num = int(input(\"Please enter a number: \"))\n",
    "symbol = input(\"Please enter a symbol: \")\n",
    "\n",
    "for x in range(1, num):\n",
    "    print(symbol * x)\n",
    "for x in range(num, 0, -1): # -1 steht für den Betrag der Erhöhung\n",
    "    print(symbol * x)\n"
   ]
  },
  {
   "cell_type": "code",
   "execution_count": 4,
   "id": "f2831df6-1a39-43b3-9e5b-39eb63d3e347",
   "metadata": {},
   "outputs": [],
   "source": [
    "#Aufgabe 2 :"
   ]
  },
  {
   "cell_type": "code",
   "execution_count": 5,
   "id": "b751b952-15fc-4933-8e23-a7d433409b24",
   "metadata": {},
   "outputs": [
    {
     "name": "stdin",
     "output_type": "stream",
     "text": [
      "Please enter the words that you want:  hallo halllo\n",
      "Please enter the number of words that you entered:  5\n"
     ]
    },
    {
     "name": "stdout",
     "output_type": "stream",
     "text": [
      "8\n"
     ]
    }
   ],
   "source": [
    "entered_words = str(input(\"Please enter the words that you want: \"))\n",
    "k = int(input(\"Please enter the number of words that you entered: \"))\n",
    "\n",
    "blank_list = []\n",
    "\n",
    "for letter in entered_words :\n",
    "    blank_list.append(letter)\n",
    "\n",
    "print(len(blank_list) - k + 1)"
   ]
  },
  {
   "cell_type": "code",
   "execution_count": 7,
   "id": "7bfa8f58-0829-4c03-967f-9f57f2e4781d",
   "metadata": {},
   "outputs": [],
   "source": [
    "#Aufgabe 3 :"
   ]
  },
  {
   "cell_type": "code",
   "execution_count": 6,
   "id": "762dd574-ac06-4966-b26a-3202a28328a5",
   "metadata": {},
   "outputs": [
    {
     "name": "stdin",
     "output_type": "stream",
     "text": [
      "Please enter a text:  alp alp hello please help us\n"
     ]
    },
    {
     "name": "stdout",
     "output_type": "stream",
     "text": [
      "alp: 2\n",
      "hello: 1\n",
      "please: 1\n",
      "help: 1\n",
      "us: 1\n"
     ]
    }
   ],
   "source": [
    "text = str(input(\"Please enter a text: \"))\n",
    "\n",
    "words = text.split()\n",
    "\n",
    "word_frequency = {}\n",
    "\n",
    "for word in words:\n",
    "    if word in word_frequency:\n",
    "        word_frequency[word] = 1 + word_frequency[word]\n",
    "    else:\n",
    "        word_frequency[word] = 1\n",
    "\n",
    "# Wenn wir dies command „print(word_frequenz)“ direkt verwenden würden, würden die Wörter in „ “ geschrieben. Deshalb verwende ich nicht.\n",
    "        \n",
    "for word , frequency in word_frequency.items():\n",
    "    print(\"{a}: {b}\" .format(a = word , b = frequency))"
   ]
  },
  {
   "cell_type": "code",
   "execution_count": null,
   "id": "38e53c25-89c4-43d4-bf53-943336e32519",
   "metadata": {},
   "outputs": [],
   "source": []
  }
 ],
 "metadata": {
  "kernelspec": {
   "display_name": "Python 3 (ipykernel)",
   "language": "python",
   "name": "python3"
  },
  "language_info": {
   "codemirror_mode": {
    "name": "ipython",
    "version": 3
   },
   "file_extension": ".py",
   "mimetype": "text/x-python",
   "name": "python",
   "nbconvert_exporter": "python",
   "pygments_lexer": "ipython3",
   "version": "3.11.7"
  }
 },
 "nbformat": 4,
 "nbformat_minor": 5
}
